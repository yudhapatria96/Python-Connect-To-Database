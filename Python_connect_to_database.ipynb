{
  "nbformat": 4,
  "nbformat_minor": 0,
  "metadata": {
    "colab": {
      "name": "Python connect to database.ipynb",
      "provenance": [],
      "authorship_tag": "ABX9TyNXrbjpc2xpoNGpLSzE0/21",
      "include_colab_link": true
    },
    "kernelspec": {
      "name": "python3",
      "display_name": "Python 3"
    },
    "language_info": {
      "name": "python"
    }
  },
  "cells": [
    {
      "cell_type": "markdown",
      "metadata": {
        "id": "view-in-github",
        "colab_type": "text"
      },
      "source": [
        "<a href=\"https://colab.research.google.com/github/yudhapatria96/Python-Connect-To-Database/blob/main/Python_connect_to_database.ipynb\" target=\"_parent\"><img src=\"https://colab.research.google.com/assets/colab-badge.svg\" alt=\"Open In Colab\"/></a>"
      ]
    },
    {
      "cell_type": "code",
      "metadata": {
        "colab": {
          "base_uri": "https://localhost:8080/"
        },
        "id": "Tv5p5SbzNZVz",
        "outputId": "e08e2093-71df-4458-bec0-615ae41d7d61"
      },
      "source": [
        "!pip install psycopg2"
      ],
      "execution_count": 2,
      "outputs": [
        {
          "output_type": "stream",
          "text": [
            "Requirement already satisfied: psycopg2 in /usr/local/lib/python3.7/dist-packages (2.7.6.1)\n"
          ],
          "name": "stdout"
        }
      ]
    },
    {
      "cell_type": "code",
      "metadata": {
        "colab": {
          "base_uri": "https://localhost:8080/"
        },
        "id": "8qPx3MQZN1G6",
        "outputId": "1c3d2c6a-46d9-4ae7-c472-c530b91b286f"
      },
      "source": [
        "import psycopg2"
      ],
      "execution_count": 3,
      "outputs": [
        {
          "output_type": "stream",
          "text": [
            "/usr/local/lib/python3.7/dist-packages/psycopg2/__init__.py:144: UserWarning: The psycopg2 wheel package will be renamed from release 2.8; in order to keep installing from binary please use \"pip install psycopg2-binary\" instead. For details see: <http://initd.org/psycopg/docs/install.html#binary-install-from-pypi>.\n",
            "  \"\"\")\n"
          ],
          "name": "stderr"
        }
      ]
    },
    {
      "cell_type": "code",
      "metadata": {
        "id": "A4N_cPWXN_Pn"
      },
      "source": [
        "host ='xxxxxxxxxxxxxxxx'\n",
        "port = xxxx\n",
        "user = 'xxxx'\n",
        "password = 'xxxxxxxxx'\n",
        "database = 'x'\n",
        "\n",
        "connection = psycopg2.connect(host=host,\n",
        "                              port=port,\n",
        "                              user=user,\n",
        "                              password=password,\n",
        "                              database=database)\n",
        "\n",
        "#untuk delete connection\n",
        "# del connection  "
      ],
      "execution_count": 4,
      "outputs": []
    },
    {
      "cell_type": "code",
      "metadata": {
        "id": "_TU4qd4lmQqe"
      },
      "source": [
        "sql = 'select * from name_table'"
      ],
      "execution_count": null,
      "outputs": []
    },
    {
      "cell_type": "code",
      "metadata": {
        "id": "-3gVb9PBWQv1"
      },
      "source": [
        "#Example Join\n",
        "sql = '''\n",
        "select * from name_table_1 e\n",
        "left join name_table_2 d on e.id = d.id\n",
        "'''"
      ],
      "execution_count": 5,
      "outputs": []
    },
    {
      "cell_type": "code",
      "metadata": {
        "id": "Kl4UlKlSPei_"
      },
      "source": [
        "import pandas as pd\n",
        "data = pd.read_sql(sql, con=connection)\n",
        "data"
      ],
      "execution_count": null,
      "outputs": []
    },
    {
      "cell_type": "code",
      "metadata": {
        "id": "5GvtqEfiW649"
      },
      "source": [
        "data.to_excel(\"data_1.xlsx\", sheet_name='Data', index = False)"
      ],
      "execution_count": 7,
      "outputs": []
    },
    {
      "cell_type": "code",
      "metadata": {
        "id": "ugfBIifjYGeo"
      },
      "source": [
        "pd.read_excel('/content/data_1.xlsx')"
      ],
      "execution_count": null,
      "outputs": []
    }
  ]
}